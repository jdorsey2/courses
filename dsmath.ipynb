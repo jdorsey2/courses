{
 "cells": [
  {
   "cell_type": "markdown",
   "metadata": {},
   "source": [
    "## Sets\n",
    "\n",
    "cardinality == size\n",
    "\n",
    "* a set is a collection of things.\n",
    "* a set is made up of elements.\n",
    "\n",
    "union\n",
    "\n",
    "$$ \n",
    "A \\cup B = \\{x: x \\in A \\text{ or } x \\in B\\}  \n",
    "$$\n",
    "\n",
    "intersection\n",
    "\n",
    "\n",
    "$$ \n",
    "A \\cap B = \\{x: x \\in A \\text{ and } x \\in B\\}  \n",
    "$$\n"
   ]
  }
 ],
 "metadata": {
  "kernelspec": {
   "display_name": "Python 3",
   "language": "python",
   "name": "python3"
  },
  "language_info": {
   "codemirror_mode": {
    "name": "ipython",
    "version": 3
   },
   "file_extension": ".py",
   "mimetype": "text/x-python",
   "name": "python",
   "nbconvert_exporter": "python",
   "pygments_lexer": "ipython3",
   "version": "3.7.5"
  }
 },
 "nbformat": 4,
 "nbformat_minor": 4
}
